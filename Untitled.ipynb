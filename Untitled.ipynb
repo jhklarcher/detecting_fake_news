{
 "cells": [
  {
   "cell_type": "code",
   "execution_count": 200,
   "metadata": {},
   "outputs": [],
   "source": [
    "# local url\n",
    "url = 'http://127.0.0.1:5000' # change to your url"
   ]
  },
  {
   "cell_type": "code",
   "execution_count": 201,
   "metadata": {},
   "outputs": [],
   "source": [
    "import json\n",
    "# sample data\n",
    "data = {'text': ['Police have shot dead a man in Streatham, south London, after three people were injured in a terror attack. The Met first revealed details of the incident at around 3pm when it issued a tweet urging people to avoid the area. Officers then said the incident was thought to be terror-related. Shortly before 4pm, they announced a man had been shot dead, then confirmed multiple people were stabbed. Three people are known to have been injured. One is in a life-threatening condition. Police warned the man could have been in possession of a bomb, but they later confirmed it was a hoax device. It is understood the man shot dead by police was under active counter terrorism surveillance, and Scotland Yard has confirmed the plainclothes officers on the scene were there to take part in an active counter terrorism operation. Whitehall sources told The Telegraph that he was very recently released from prison. Details of the attack are here. Follow the latest developments here']\n",
    "       }\n",
    "data = json.dumps(data)"
   ]
  },
  {
   "cell_type": "code",
   "execution_count": 202,
   "metadata": {},
   "outputs": [],
   "source": [
    "import requests\n",
    "send_request = requests.post(url, data)"
   ]
  },
  {
   "cell_type": "code",
   "execution_count": 203,
   "metadata": {},
   "outputs": [
    {
     "name": "stdout",
     "output_type": "stream",
     "text": [
      "b'FAKE'\n"
     ]
    }
   ],
   "source": [
    "print(send_request.content)"
   ]
  },
  {
   "cell_type": "code",
   "execution_count": 204,
   "metadata": {},
   "outputs": [],
   "source": [
    "import pandas as pd"
   ]
  },
  {
   "cell_type": "code",
   "execution_count": 205,
   "metadata": {},
   "outputs": [],
   "source": [
    "df = pd.read_csv('https://github.com/jhklarcher/detecting_fake_news/raw/master/news.csv')"
   ]
  },
  {
   "cell_type": "code",
   "execution_count": 208,
   "metadata": {},
   "outputs": [
    {
     "name": "stdout",
     "output_type": "stream",
     "text": [
      "FAKE\n",
      "FAKE\n",
      "REAL\n",
      "FAKE\n",
      "REAL\n",
      "FAKE\n",
      "FAKE\n",
      "REAL\n",
      "REAL\n",
      "REAL\n",
      "REAL\n",
      "REAL\n",
      "FAKE\n",
      "FAKE\n",
      "REAL\n",
      "REAL\n",
      "FAKE\n",
      "FAKE\n",
      "REAL\n",
      "REAL\n",
      "REAL\n",
      "FAKE\n",
      "REAL\n",
      "REAL\n",
      "FAKE\n",
      "REAL\n",
      "REAL\n",
      "REAL\n",
      "REAL\n",
      "FAKE\n",
      "REAL\n",
      "FAKE\n",
      "FAKE\n",
      "FAKE\n",
      "FAKE\n",
      "FAKE\n",
      "FAKE\n",
      "FAKE\n",
      "FAKE\n",
      "FAKE\n",
      "REAL\n",
      "REAL\n",
      "FAKE\n",
      "FAKE\n",
      "REAL\n",
      "FAKE\n",
      "REAL\n",
      "REAL\n",
      "FAKE\n",
      "FAKE\n",
      "REAL\n",
      "REAL\n",
      "FAKE\n",
      "FAKE\n",
      "FAKE\n",
      "REAL\n",
      "FAKE\n",
      "REAL\n",
      "FAKE\n",
      "REAL\n",
      "FAKE\n",
      "REAL\n",
      "REAL\n",
      "FAKE\n",
      "REAL\n",
      "REAL\n",
      "REAL\n",
      "REAL\n",
      "REAL\n",
      "FAKE\n",
      "REAL\n",
      "FAKE\n",
      "REAL\n",
      "REAL\n",
      "FAKE\n",
      "REAL\n",
      "REAL\n",
      "REAL\n",
      "FAKE\n",
      "FAKE\n",
      "REAL\n",
      "REAL\n",
      "REAL\n",
      "FAKE\n",
      "REAL\n",
      "REAL\n",
      "REAL\n",
      "REAL\n",
      "REAL\n",
      "REAL\n",
      "REAL\n",
      "FAKE\n",
      "FAKE\n",
      "REAL\n",
      "REAL\n",
      "FAKE\n",
      "FAKE\n",
      "REAL\n",
      "REAL\n",
      "REAL\n"
     ]
    }
   ],
   "source": [
    "for i in range(100):\n",
    "    data = str(df.iloc[i,2].encode(\"ascii\", \"ignore\"))[2:-1]\n",
    "    send_request = requests.post(url, data)\n",
    "    print(str(send_request.content)[2:-1])"
   ]
  },
  {
   "cell_type": "code",
   "execution_count": 186,
   "metadata": {},
   "outputs": [
    {
     "name": "stdout",
     "output_type": "stream",
     "text": [
      "b'FAKE'\n"
     ]
    }
   ],
   "source": [
    "data = str(df.iloc[1,2].encode(\"ascii\", \"ignore\"))\n",
    "#data = json.dumps(data)\n",
    "send_request = requests.post(url, data)\n",
    "print(send_request.content)"
   ]
  },
  {
   "cell_type": "code",
   "execution_count": 197,
   "metadata": {},
   "outputs": [
    {
     "data": {
      "text/plain": [
       "'Google Pinterest Digg Linkedin Reddit Stumbleupon Print Delicious Pocket Tumblr \\\\nThere are two fundamental truths in this world: Paul Ryan desperately wants to be president. And Paul Ryan will never be president. Today proved it. \\\\nIn a particularly staggering example of political cowardice, Paul Ryan re-re-re-reversed course and announced that he was back on the Trump Train after all. This was an aboutface from where he was a few weeks ago. He had previously declared he would not be supporting or defending Trump after a tape was made public in which Trump bragged about assaulting women. Suddenly, Ryan was appearing at a pro-Trump rally and boldly declaring that he already sent in his vote to make him President of the United States. It was a surreal moment. The figurehead of the Republican Party dosed himself in gasoline, got up on a stage on a chilly afternoon in Wisconsin, and lit a match. . @SpeakerRyan says he voted for @realDonaldTrump : Republicans, it is time to come home https://t.co/VyTT49YvoE pic.twitter.com/wCvSCg4a5I \\\\n ABC News Politics (@ABCPolitics) November 5, 2016 \\\\nThe Democratic Party couldnt have asked for a better moment of film. Ryans chances of ever becoming president went down to zero in an instant. In the wreckage Trump is to leave behind in his wake, those who cravenly backed his campaign will not recover. If Ryans career manages to limp all the way to 2020, then the DNC will have this tape locked and loaded to be used in every ad until Election Day. \\\\nThe ringing endorsement of the man he clearly hates on a personal level speaks volumes about his own spinelessness. Ryan has postured himself as a principled conservative, and one uncomfortable with Trumps unapologetic bigotry and sexism. However, when push came to shove, Paul Ryan  like many of his colleagues  turned into a sniveling appeaser. After all his lofty tak about conviction, his principles were a house of cards and collapsed with the slightest breeze. \\\\nWhats especially bizarre is how close Ryan came to making it through unscathed. For months the Speaker of the House refused to comment on Trump at all. His strategy seemed to be to keep his head down, pretend Trump didnt exist, and hope that nobody remembered what happened in 2016. Now, just days away from the election, he screwed it all up. \\\\nIf 2016s very ugly election has done any good its by exposing the utter cowardice of the Republicans who once feigned moral courage. A reality television star spit on them, hijacked their party, insulted their wives, and got every last one of them to kneel before him. What a turn of events. \\\\nFeatured image via Twitter'"
      ]
     },
     "execution_count": 197,
     "metadata": {},
     "output_type": "execute_result"
    }
   ],
   "source": [
    "str(df.iloc[1,2].encode(\"ascii\", \"ignore\"))"
   ]
  },
  {
   "cell_type": "code",
   "execution_count": null,
   "metadata": {},
   "outputs": [],
   "source": []
  }
 ],
 "metadata": {
  "kernelspec": {
   "display_name": "Python 3",
   "language": "python",
   "name": "python3"
  },
  "language_info": {
   "codemirror_mode": {
    "name": "ipython",
    "version": 3
   },
   "file_extension": ".py",
   "mimetype": "text/x-python",
   "name": "python",
   "nbconvert_exporter": "python",
   "pygments_lexer": "ipython3",
   "version": "3.7.1"
  }
 },
 "nbformat": 4,
 "nbformat_minor": 2
}
